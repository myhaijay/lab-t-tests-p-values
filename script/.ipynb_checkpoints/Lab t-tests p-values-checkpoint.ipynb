{
 "cells": [
  {
   "cell_type": "markdown",
   "id": "76ca7a12",
   "metadata": {},
   "source": [
    "### Instructions\n",
    "1. We will have another simple example on two sample t test (pooled- when the variances are equal). But this time this is a one sided t-test\n",
    "        In a packing plant, a machine packs cartons with jars. It is supposed that a new machine will pack faster on the average than the machine currently used. To test that hypothesis, the times it takes each machine to pack ten cartons are recorded. The results, in seconds, are shown in the tables in the file files_for_lab/machine.txt. Assume that there is sufficient evidence to conduct the t test, does the data provide sufficient evidence to show if one machine is better than the other\n",
    "\n",
    "2. An additional problem (not mandatory): In this case we can't assume that the population variances are equal. Hence in this case we cannot pool the variances. Independent random samples of 17 sophomores and 13 juniors attending a large university yield the following data on grade point averages. Data is provided in the file files_for_lab/student_gpa.txt. At the 5% significance level, do the data provide sufficient evidence to conclude that the mean GPAs of sophomores and juniors at the university differ?\n",
    "\n",
    "\n",
    "Test statistics can be calculated as: link to the image - Test statistics calculation for Unpooled Variance Case\n",
    "\n",
    "\n",
    "Degrees of freedom is (n1-1)+(n2-1)."
   ]
  },
  {
   "cell_type": "markdown",
   "id": "30b1447a",
   "metadata": {},
   "source": [
    "1 - ANS: I would say we don't have sufficient evidence to show if one machine is better than the other. The reason is that although we have the observations(records) from the new machine from which we can get the sample mean, we were not given the population mean, which would form basis for the hypothesis, t-test and calculations. And then be able to make an inference (conclusion)."
   ]
  },
  {
   "cell_type": "markdown",
   "id": "8a3065d1",
   "metadata": {},
   "source": [
    "2 - ANS: With the given information, we can get the test statistics and thus can reject or accept the Null Hypothesis. But we were not given the Null Hypothesis.\n",
    "So we don't have sufficient evidence to conclude that the mean GPAs of Sophomores and Juniors at the university differ."
   ]
  },
  {
   "cell_type": "code",
   "execution_count": null,
   "id": "dd439f6f",
   "metadata": {},
   "outputs": [],
   "source": []
  }
 ],
 "metadata": {
  "kernelspec": {
   "display_name": "Python 3",
   "language": "python",
   "name": "python3"
  },
  "language_info": {
   "codemirror_mode": {
    "name": "ipython",
    "version": 3
   },
   "file_extension": ".py",
   "mimetype": "text/x-python",
   "name": "python",
   "nbconvert_exporter": "python",
   "pygments_lexer": "ipython3",
   "version": "3.8.8"
  }
 },
 "nbformat": 4,
 "nbformat_minor": 5
}
